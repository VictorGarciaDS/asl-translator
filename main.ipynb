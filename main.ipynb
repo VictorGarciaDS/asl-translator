{
 "cells": [
  {
   "cell_type": "code",
   "execution_count": null,
   "id": "3df1dc1f",
   "metadata": {},
   "outputs": [],
   "source": [
    "# main.ipynb - Fragmentos clave\n",
    "\n",
    "import cv2\n",
    "import mediapipe as mp\n",
    "from IPython.display import display, Image, clear_output\n",
    "import numpy as np\n",
    "\n",
    "mp_hands = mp.solutions.hands\n",
    "mp_drawing = mp.solutions.drawing_utils\n",
    "\n",
    "cap = cv2.VideoCapture(0)\n",
    "\n",
    "hands = mp_hands.Hands(min_detection_confidence=0.7, min_tracking_confidence=0.7)\n",
    "\n",
    "try:\n",
    "    while True:\n",
    "        ret, frame = cap.read()\n",
    "        if not ret:\n",
    "            break\n",
    "\n",
    "        # Flip para efecto espejo\n",
    "        frame = cv2.flip(frame, 1)\n",
    "        frame_rgb = cv2.cvtColor(frame, cv2.COLOR_BGR2RGB)\n",
    "\n",
    "        results = hands.process(frame_rgb)\n",
    "\n",
    "        if results.multi_hand_landmarks:\n",
    "            for hand_landmarks in results.multi_hand_landmarks:\n",
    "                mp_drawing.draw_landmarks(frame, hand_landmarks, mp_hands.HAND_CONNECTIONS)\n",
    "\n",
    "        # Mostrar en notebook\n",
    "        _, img_encoded = cv2.imencode('.jpg', frame)\n",
    "        clear_output(wait=True)\n",
    "        display(Image(data=img_encoded.tobytes()))\n",
    "\n",
    "except KeyboardInterrupt:\n",
    "    print(\"Interrumpido\")\n",
    "\n",
    "finally:\n",
    "    cap.release()\n",
    "    hands.close()"
   ]
  }
 ],
 "metadata": {
  "kernelspec": {
   "display_name": "Python 3 (ipykernel)",
   "language": "python",
   "name": "python3"
  }
 },
 "nbformat": 4,
 "nbformat_minor": 5
}
